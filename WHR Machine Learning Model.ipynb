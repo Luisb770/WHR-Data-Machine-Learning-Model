{
 "cells": [
  {
   "cell_type": "markdown",
   "metadata": {},
   "source": [
    "# Lab 8: Implement Your Machine Learning Project Plan"
   ]
  },
  {
   "cell_type": "markdown",
   "metadata": {},
   "source": [
    "In this lab assignment, you will implement the machine learning project plan you created in the written assignment. You will:\n",
    "\n",
    "1. Load your data set and save it to a Pandas DataFrame.\n",
    "2. Perform exploratory data analysis on your data to determine which feature engineering and data preparation techniques you will use.\n",
    "3. Prepare your data for your model and create features and a label.\n",
    "4. Fit your model to the training data and evaluate your model.\n",
    "5. Improve your model by performing model selection and/or feature selection techniques to find best model for your problem."
   ]
  },
  {
   "cell_type": "markdown",
   "metadata": {},
   "source": [
    "### Import Packages\n",
    "\n",
    "Before you get started, import a few packages."
   ]
  },
  {
   "cell_type": "code",
   "execution_count": 32,
   "metadata": {},
   "outputs": [],
   "source": [
    "import pandas as pd\n",
    "import numpy as np\n",
    "import os \n",
    "import matplotlib.pyplot as plt\n",
    "import seaborn as sns"
   ]
  },
  {
   "cell_type": "markdown",
   "metadata": {},
   "source": [
    "<b>Task:</b> In the code cell below, import additional packages that you have used in this course that you will need for this task."
   ]
  },
  {
   "cell_type": "code",
   "execution_count": 33,
   "metadata": {},
   "outputs": [],
   "source": [
    "from sklearn.model_selection import train_test_split\n",
    "from sklearn.linear_model import LinearRegression\n",
    "from sklearn.ensemble import RandomForestRegressor\n",
    "from sklearn.linear_model import LogisticRegression\n",
    "from sklearn.ensemble import RandomForestClassifier\n",
    "from sklearn.metrics import accuracy_score, mean_squared_error\n",
    "from sklearn.model_selection import cross_val_score\n",
    "from sklearn.preprocessing import StandardScaler"
   ]
  },
  {
   "cell_type": "markdown",
   "metadata": {},
   "source": [
    "## Part 1: Load the Data Set\n",
    "\n",
    "\n",
    "You have chosen to work with one of four data sets. The data sets are located in a folder named \"data.\" The file names of the three data sets are as follows:\n",
    "\n",
    "* The \"adult\" data set that contains Census information from 1994 is located in file `adultData.csv`\n",
    "* The airbnb NYC \"listings\" data set is located in file  `airbnbListingsData.csv`\n",
    "* The World Happiness Report (WHR) data set is located in file `WHR2018Chapter2OnlineData.csv`\n",
    "* The book review data set is located in file `bookReviewsData.csv`\n",
    "\n",
    "\n",
    "\n",
    "<b>Task:</b> In the code cell below, use the same method you have been using to load your data using `pd.read_csv()` and save it to DataFrame `df`."
   ]
  },
  {
   "cell_type": "code",
   "execution_count": 34,
   "metadata": {},
   "outputs": [],
   "source": [
    "# YOUR CODE HERE\n",
    "WHRDataSet_filename = os.path.join(os.getcwd(), \"data\", \"WHR2018Chapter2OnlineData.csv\")\n",
    "df = pd.read_csv(WHRDataSet_filename)\n"
   ]
  },
  {
   "cell_type": "markdown",
   "metadata": {},
   "source": [
    "## Part 2: Exploratory Data Analysis\n",
    "\n",
    "The next step is to inspect and analyze your data set with your machine learning problem and project plan in mind. \n",
    "\n",
    "This step will help you determine data preparation and feature engineering techniques you will need to apply to your data to build a balanced modeling data set for your problem and model. These data preparation techniques may include:\n",
    "* addressing missingness, such as replacing missing values with means\n",
    "* renaming features and labels\n",
    "* finding and replacing outliers\n",
    "* performing winsorization if needed\n",
    "* performing one-hot encoding on categorical features\n",
    "* performing vectorization for an NLP problem\n",
    "* addressing class imbalance in your data sample to promote fair AI\n",
    "\n",
    "\n",
    "Think of the different techniques you have used to inspect and analyze your data in this course. These include using Pandas to apply data filters, using the Pandas `describe()` method to get insight into key statistics for each column, using the Pandas `dtypes` property to inspect the data type of each column, and using Matplotlib and Seaborn to detect outliers and visualize relationships between features and labels. If you are working on a classification problem, use techniques you have learned to determine if there is class imbalance.\n",
    "\n",
    "\n",
    "<b>Task</b>: Use the techniques you have learned in this course to inspect and analyze your data. \n",
    "\n",
    "<b>Note</b>: You can add code cells if needed by going to the <b>Insert</b> menu and clicking on <b>Insert Cell Below</b> in the drop-drown menu."
   ]
  },
  {
   "cell_type": "code",
   "execution_count": 35,
   "metadata": {},
   "outputs": [],
   "source": [
    "#Your Code Here\n",
    "\n",
    "# Data Preprocessing\n",
    "# Fill missing values with mean (for simplicity)\n",
    "df.fillna(df.mean(), inplace=True)\n",
    "\n",
    "# Prepare data for the prediction tasks\n",
    "X = df.drop(columns=['country', 'year', 'Life Ladder', 'GINI index (World Bank estimate)'])\n",
    "y_happiness_score = df['Life Ladder']\n",
    "y_happiness_rank = df['Life Ladder'].rank(ascending=False)\n",
    "y_happiness_level = pd.cut(df['Life Ladder'], bins=[-np.inf, 4, 5, 6, 7, np.inf], labels=[\"Very Unhappy\", \"Unhappy\", \"Neutral\", \"Happy\", \"Very Happy\"])\n",
    "y_social_support = df['Social support']\n",
    "y_healthy_life_expectancy = df['Healthy life expectancy at birth']\n",
    "y_perceptions_of_corruption = df['Perceptions of corruption']\n",
    "\n",
    "# Split data into training and testing sets consistently for all tasks\n",
    "X_train, X_test, y_train_happiness_score, y_test_happiness_score, y_train_happiness_rank, y_test_happiness_rank, y_train_happiness_level, y_test_happiness_level, y_train_social_support, y_test_social_support, y_train_healthy_life_expectancy, y_test_healthy_life_expectancy, y_train_perceptions_of_corruption, y_test_perceptions_of_corruption = train_test_split(X, y_happiness_score, y_happiness_rank, y_happiness_level, y_social_support, y_healthy_life_expectancy, y_perceptions_of_corruption, test_size=0.2, random_state=42)\n",
    "\n",
    "# Scale the data using StandardScaler\n",
    "scaler = StandardScaler()\n",
    "X_train_scaled = scaler.fit_transform(X_train)\n",
    "X_test_scaled = scaler.transform(X_test)\n",
    "\n",
    "\n",
    "\n",
    "\n",
    "\n"
   ]
  },
  {
   "cell_type": "markdown",
   "metadata": {},
   "source": [
    "## Part 3: Implement Your Project Plan\n",
    "\n",
    "<b>Task:</b> Use the rest of this notebook to carry out your project plan. You will:\n",
    "\n",
    "1. Prepare your data for your model and create features and a label.\n",
    "2. Fit your model to the training data and evaluate your model.\n",
    "3. Improve your model by performing model selection and/or feature selection techniques to find best model for your problem.\n",
    "\n",
    "\n",
    "Add code cells below and populate the notebook with commentary, code, analyses, results, and figures as you see fit."
   ]
  },
  {
   "cell_type": "code",
   "execution_count": 36,
   "metadata": {},
   "outputs": [
    {
     "name": "stdout",
     "output_type": "stream",
     "text": [
      "Happiness Score RMSE (Linear Regression): 0.3027692789139585\n",
      "Happiness Score RMSE (Random Forest): 0.2081896063466236\n",
      "Happiness Rank RMSE (Random Forest): 83.26532783542936\n",
      "Happiness Level Accuracy (Logistic Regression): 0.8342425702811245\n",
      "Happiness Level Accuracy (Random Forest): 0.7758265060240964\n",
      "Social Support RMSE (Linear Regression): 1.3597283057474732e-16\n",
      "Healthy Life Expectancy RMSE (Linear Regression): 9.608689386223203e-15\n",
      "Perceptions of Corruption RMSE (Linear Regression): 2.335893102061827e-16\n"
     ]
    }
   ],
   "source": [
    "# YOUR CODE HERE\n",
    "\n",
    "# Linear Regression for predicting Happiness Score\n",
    "lr_model = LinearRegression()\n",
    "lr_scores = cross_val_score(lr_model, X_train_scaled, y_train_happiness_score, scoring='neg_mean_squared_error', cv=5)\n",
    "happiness_score_rmse = np.sqrt(-lr_scores.mean())\n",
    "\n",
    "# Random Forest Regression for predicting Happiness Score\n",
    "rf_model = RandomForestRegressor()\n",
    "rf_scores = cross_val_score(rf_model, X_train_scaled, y_train_happiness_score, scoring='neg_mean_squared_error', cv=5)\n",
    "happiness_score_rf_rmse = np.sqrt(-rf_scores.mean())\n",
    "\n",
    "# Random Forest Regression for predicting Happiness Rank\n",
    "rf_rank_model = RandomForestRegressor()\n",
    "rf_rank_scores = cross_val_score(rf_rank_model, X_train, y_train_happiness_rank, scoring='neg_mean_squared_error', cv=5)\n",
    "happiness_rank_rmse = np.sqrt(-rf_rank_scores.mean())\n",
    "\n",
    "# Logistic Regression for predicting Happiness Level (Classification)\n",
    "logreg_model = LogisticRegression(max_iter=1000, solver='saga')  # Increase max_iter and try a different solver if needed\n",
    "logreg_scores = cross_val_score(logreg_model, X_train_scaled, y_train_happiness_level, scoring='accuracy', cv=5)\n",
    "happiness_level_accuracy = logreg_scores.mean()\n",
    "\n",
    "# Random Forest Classifier for predicting Happiness Level (Classification)\n",
    "rf_classifier = RandomForestClassifier()\n",
    "rf_classifier_scores = cross_val_score(rf_classifier, X_train, y_train_happiness_level, scoring='accuracy', cv=5)\n",
    "happiness_level_rf_accuracy = rf_classifier_scores.mean()\n",
    "\n",
    "# Regression for predicting Social Support\n",
    "social_support_model = LinearRegression()\n",
    "social_support_scores = cross_val_score(social_support_model, X_train_scaled, y_train_social_support, scoring='neg_mean_squared_error', cv=5)\n",
    "social_support_rmse = np.sqrt(-social_support_scores.mean())\n",
    "\n",
    "# Regression for predicting Healthy Life Expectancy\n",
    "healthy_life_model = LinearRegression()\n",
    "healthy_life_scores = cross_val_score(healthy_life_model, X_train_scaled, y_train_healthy_life_expectancy, scoring='neg_mean_squared_error', cv=5)\n",
    "healthy_life_rmse = np.sqrt(-healthy_life_scores.mean())\n",
    "\n",
    "# Regression for predicting Perceptions of Corruption\n",
    "corruption_model = LinearRegression()\n",
    "corruption_scores = cross_val_score(corruption_model, X_train_scaled, y_train_perceptions_of_corruption, scoring='neg_mean_squared_error', cv=5)\n",
    "corruption_rmse = np.sqrt(-corruption_scores.mean())\n",
    "\n",
    "# Print evaluation results\n",
    "print(\"Happiness Score RMSE (Linear Regression):\", happiness_score_rmse)\n",
    "print(\"Happiness Score RMSE (Random Forest):\", happiness_score_rf_rmse)\n",
    "print(\"Happiness Rank RMSE (Random Forest):\", happiness_rank_rmse)\n",
    "print(\"Happiness Level Accuracy (Logistic Regression):\", happiness_level_accuracy)\n",
    "print(\"Happiness Level Accuracy (Random Forest):\", happiness_level_rf_accuracy)\n",
    "print(\"Social Support RMSE (Linear Regression):\", social_support_rmse)\n",
    "print(\"Healthy Life Expectancy RMSE (Linear Regression):\", healthy_life_rmse)\n",
    "print(\"Perceptions of Corruption RMSE (Linear Regression):\", corruption_rmse)\n",
    "\n",
    "\n"
   ]
  }
 ],
 "metadata": {
  "kernelspec": {
   "display_name": "Python 3",
   "language": "python",
   "name": "python3"
  },
  "language_info": {
   "codemirror_mode": {
    "name": "ipython",
    "version": 3
   },
   "file_extension": ".py",
   "mimetype": "text/x-python",
   "name": "python",
   "nbconvert_exporter": "python",
   "pygments_lexer": "ipython3",
   "version": "3.6.9"
  },
  "toc": {
   "base_numbering": 1,
   "nav_menu": {},
   "number_sections": false,
   "sideBar": true,
   "skip_h1_title": false,
   "title_cell": "Table of Contents",
   "title_sidebar": "Contents",
   "toc_cell": false,
   "toc_position": {},
   "toc_section_display": true,
   "toc_window_display": false
  },
  "varInspector": {
   "cols": {
    "lenName": 16,
    "lenType": 16,
    "lenVar": 40
   },
   "kernels_config": {
    "python": {
     "delete_cmd_postfix": "",
     "delete_cmd_prefix": "del ",
     "library": "var_list.py",
     "varRefreshCmd": "print(var_dic_list())"
    },
    "r": {
     "delete_cmd_postfix": ") ",
     "delete_cmd_prefix": "rm(",
     "library": "var_list.r",
     "varRefreshCmd": "cat(var_dic_list()) "
    }
   },
   "types_to_exclude": [
    "module",
    "function",
    "builtin_function_or_method",
    "instance",
    "_Feature"
   ],
   "window_display": false
  }
 },
 "nbformat": 4,
 "nbformat_minor": 2
}
